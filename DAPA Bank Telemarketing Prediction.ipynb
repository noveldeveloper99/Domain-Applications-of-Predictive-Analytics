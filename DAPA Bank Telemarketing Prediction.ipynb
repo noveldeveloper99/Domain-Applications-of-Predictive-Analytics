{
 "cells": [
  {
   "cell_type": "code",
   "execution_count": 2,
   "metadata": {},
   "outputs": [],
   "source": [
    "import pandas as pd\n",
    "import numpy as np\n",
    "import seaborn as sns\n",
    "import matplotlib.pyplot as plt\n",
    "from collections import Counter"
   ]
  },
  {
   "cell_type": "markdown",
   "metadata": {},
   "source": [
    "# Reading the Data File"
   ]
  },
  {
   "cell_type": "code",
   "execution_count": 3,
   "metadata": {},
   "outputs": [
    {
     "name": "stdout",
     "output_type": "stream",
     "text": [
      "Number of Rows : 41188\n",
      "Number of Columns : 21\n"
     ]
    }
   ],
   "source": [
    "df= pd.read_csv('bank_additional_full.csv')\n",
    "\n",
    "print(\"Number of Rows :\", df.shape[0])\n",
    "print(\"Number of Columns :\", df.shape[1])"
   ]
  },
  {
   "cell_type": "markdown",
   "metadata": {},
   "source": [
    "# Accessing the data types of the features"
   ]
  },
  {
   "cell_type": "code",
   "execution_count": 4,
   "metadata": {},
   "outputs": [
    {
     "name": "stdout",
     "output_type": "stream",
     "text": [
      "\n",
      "Datatypes of the Columns\n",
      "--------------------------------\n",
      "\n",
      "Columns with 'int' datatype : \n",
      "age\n",
      "duration\n",
      "campaign\n",
      "pdays\n",
      "previous\n",
      "\n",
      "--------------------------------\n",
      "Columns with 'float' datatype : \n",
      "emp.var.rate\n",
      "cons.price.idx\n",
      "cons.conf.idx\n",
      "euribor3m\n",
      "nr.employed\n",
      "\n",
      "--------------------------------\n",
      "Columns with 'String' datatype : \n",
      "job\n",
      "marital\n",
      "education\n",
      "default\n",
      "housing\n",
      "loan\n",
      "contact\n",
      "month\n",
      "day_of_week\n",
      "poutcome\n",
      "y\n"
     ]
    }
   ],
   "source": [
    "print(\"\\nDatatypes of the Columns\")\n",
    "print('--------------------------------')\n",
    "print(\"\\nColumns with 'int' datatype : \")\n",
    "for i in list(df.select_dtypes(include=['int64']).columns):\n",
    "    print(i)\n",
    "\n",
    "print('\\n--------------------------------')\n",
    "print(\"Columns with 'float' datatype : \")\n",
    "for f in list(df.select_dtypes(include=['float64']).columns):\n",
    "    print(f)\n",
    "\n",
    "print('\\n--------------------------------')\n",
    "print(\"Columns with 'String' datatype : \")\n",
    "for s in list(df.select_dtypes(include=['object']).columns):\n",
    "    print(s)"
   ]
  },
  {
   "cell_type": "markdown",
   "metadata": {},
   "source": [
    "# Checking for missing values"
   ]
  },
  {
   "cell_type": "code",
   "execution_count": 5,
   "metadata": {},
   "outputs": [
    {
     "name": "stdout",
     "output_type": "stream",
     "text": [
      "Total no. of Columns with Missing/NA Values :  0\n",
      "\n",
      "Name of the Columns with Missing Values : \n"
     ]
    }
   ],
   "source": [
    "Missing_cloumns = df.columns[df.isnull().any()]\n",
    "print(\"Total no. of Columns with Missing/NA Values : \", len(Missing_cloumns))\n",
    "print(\"\\nName of the Columns with Missing Values : \")\n",
    "for i in Missing_cloumns:\n",
    "      print(i)"
   ]
  },
  {
   "cell_type": "markdown",
   "metadata": {},
   "source": [
    "# Outliers Treatment "
   ]
  },
  {
   "cell_type": "code",
   "execution_count": 6,
   "metadata": {},
   "outputs": [],
   "source": [
    "def remove_outlier(df: pd.DataFrame, column: str, outlier_assumption: float) -> pd.DataFrame:\n",
    "    mean = np.mean(df[column])\n",
    "    std = np.std(df[column])\n",
    "    \n",
    "    minimum = mean - outlier_assumption * std\n",
    "    maximum = mean + outlier_assumption * std\n",
    "    \n",
    "    is_outlier = (df[column] < minimum) | (df[column] > maximum)\n",
    "    df = df[~is_outlier]\n",
    "    \n",
    "    return df"
   ]
  },
  {
   "cell_type": "code",
   "execution_count": 7,
   "metadata": {},
   "outputs": [],
   "source": [
    "df= remove_outlier(df, 'age', 2.5)\n",
    "df= remove_outlier(df, 'campaign', 2.5)\n",
    "df= remove_outlier(df, 'emp.var.rate', 2.5)\n",
    "df= remove_outlier(df, 'cons.price.idx', 2.5)\n",
    "df= remove_outlier(df, 'cons.conf.idx', 2.5)\n",
    "df= remove_outlier(df, 'euribor3m', 2.5)\n",
    "df= remove_outlier(df, 'nr.employed', 2.5)"
   ]
  },
  {
   "cell_type": "code",
   "execution_count": 8,
   "metadata": {},
   "outputs": [
    {
     "name": "stdout",
     "output_type": "stream",
     "text": [
      "Number of Rows after Outlier Treatment : 37877\n"
     ]
    }
   ],
   "source": [
    "print(\"Number of Rows after Outlier Treatment :\", df.shape[0])"
   ]
  },
  {
   "cell_type": "markdown",
   "metadata": {},
   "source": [
    "# Dropping Dupicate Values "
   ]
  },
  {
   "cell_type": "code",
   "execution_count": 9,
   "metadata": {},
   "outputs": [],
   "source": [
    "df.drop_duplicates(inplace=True)"
   ]
  },
  {
   "cell_type": "markdown",
   "metadata": {},
   "source": [
    "# Treatment of the pdays and previous column "
   ]
  },
  {
   "cell_type": "code",
   "execution_count": 10,
   "metadata": {},
   "outputs": [
    {
     "name": "stderr",
     "output_type": "stream",
     "text": [
      "C:\\Users\\rdrl\\AppData\\Local\\Temp/ipykernel_652/124154235.py:6: FutureWarning: In a future version of pandas all arguments of DataFrame.drop except for the argument 'labels' will be keyword-only\n",
      "  df.drop('pdays', 1, inplace= True)\n"
     ]
    }
   ],
   "source": [
    "is_pdays_999 = df['pdays'] == 999\n",
    "df.loc[is_pdays_999, 'pdays_prcd'] = \"never contacted\"\n",
    "df.loc[~is_pdays_999, 'pdays_prcd'] = pd.qcut(df.loc[~is_pdays_999, 'pdays'], 4, labels=[\"very recently contacted\",\"recently contacted\", \"moderately recently contacted\", \"contacted long ago\"])\n",
    "df[['pdays_prcd', 'pdays']]\n",
    "\n",
    "df.drop('pdays', 1, inplace= True)"
   ]
  },
  {
   "cell_type": "code",
   "execution_count": 11,
   "metadata": {},
   "outputs": [
    {
     "name": "stderr",
     "output_type": "stream",
     "text": [
      "C:\\Users\\rdrl\\AppData\\Local\\Temp/ipykernel_652/1766373290.py:6: FutureWarning: In a future version of pandas all arguments of DataFrame.drop except for the argument 'labels' will be keyword-only\n",
      "  df.drop('previous', 1, inplace= True)\n"
     ]
    }
   ],
   "source": [
    "is_previous_0 = df['previous'] == 0\n",
    "df.loc[is_previous_0, 'previous_prcd'] = \"never contacted\"\n",
    "df.loc[~is_previous_0, 'previous_prcd'] = pd.cut(df.previous,bins=[0, 1, 4, 7],labels=[\"contacted once\", \"rarely contacted\", \"frequently contacted\"])\n",
    "df[['previous_prcd', 'previous']]\n",
    "\n",
    "df.drop('previous', 1, inplace= True)"
   ]
  },
  {
   "cell_type": "code",
   "execution_count": 12,
   "metadata": {},
   "outputs": [
    {
     "name": "stderr",
     "output_type": "stream",
     "text": [
      "C:\\Users\\rdrl\\AppData\\Local\\Temp/ipykernel_652/1798013201.py:7: FutureWarning: In a future version of pandas all arguments of DataFrame.drop except for the argument 'labels' will be keyword-only\n",
      "  df.drop('y', 1, inplace= True)\n"
     ]
    }
   ],
   "source": [
    "# Coverting the values 'no' to 0 and 'yes' to 1 in the target variable\n",
    "\n",
    "is_purchased = df['y'] == 'yes'\n",
    "df.loc[is_purchased, 'target'] = 1\n",
    "df.loc[~is_purchased, 'target'] = 0\n",
    "df[['target', 'y']]\n",
    "df.drop('y', 1, inplace= True)"
   ]
  },
  {
   "cell_type": "markdown",
   "metadata": {},
   "source": [
    "# Checking for Multi-collinearity "
   ]
  },
  {
   "cell_type": "code",
   "execution_count": 13,
   "metadata": {},
   "outputs": [
    {
     "data": {
      "text/html": [
       "<div>\n",
       "<style scoped>\n",
       "    .dataframe tbody tr th:only-of-type {\n",
       "        vertical-align: middle;\n",
       "    }\n",
       "\n",
       "    .dataframe tbody tr th {\n",
       "        vertical-align: top;\n",
       "    }\n",
       "\n",
       "    .dataframe thead th {\n",
       "        text-align: right;\n",
       "    }\n",
       "</style>\n",
       "<table border=\"1\" class=\"dataframe\">\n",
       "  <thead>\n",
       "    <tr style=\"text-align: right;\">\n",
       "      <th></th>\n",
       "      <th>age</th>\n",
       "      <th>duration</th>\n",
       "      <th>campaign</th>\n",
       "      <th>emp.var.rate</th>\n",
       "      <th>cons.price.idx</th>\n",
       "      <th>cons.conf.idx</th>\n",
       "      <th>euribor3m</th>\n",
       "      <th>nr.employed</th>\n",
       "      <th>target</th>\n",
       "    </tr>\n",
       "  </thead>\n",
       "  <tbody>\n",
       "    <tr>\n",
       "      <th>age</th>\n",
       "      <td>1.000000</td>\n",
       "      <td>-0.006533</td>\n",
       "      <td>0.006865</td>\n",
       "      <td>0.081805</td>\n",
       "      <td>0.054803</td>\n",
       "      <td>0.109817</td>\n",
       "      <td>0.091992</td>\n",
       "      <td>0.077756</td>\n",
       "      <td>-0.024282</td>\n",
       "    </tr>\n",
       "    <tr>\n",
       "      <th>duration</th>\n",
       "      <td>-0.006533</td>\n",
       "      <td>1.000000</td>\n",
       "      <td>-0.037407</td>\n",
       "      <td>-0.014347</td>\n",
       "      <td>0.005760</td>\n",
       "      <td>-0.012030</td>\n",
       "      <td>-0.017094</td>\n",
       "      <td>-0.024586</td>\n",
       "      <td>0.423341</td>\n",
       "    </tr>\n",
       "    <tr>\n",
       "      <th>campaign</th>\n",
       "      <td>0.006865</td>\n",
       "      <td>-0.037407</td>\n",
       "      <td>1.000000</td>\n",
       "      <td>0.101983</td>\n",
       "      <td>0.087991</td>\n",
       "      <td>-0.007157</td>\n",
       "      <td>0.082031</td>\n",
       "      <td>0.095606</td>\n",
       "      <td>-0.046047</td>\n",
       "    </tr>\n",
       "    <tr>\n",
       "      <th>emp.var.rate</th>\n",
       "      <td>0.081805</td>\n",
       "      <td>-0.014347</td>\n",
       "      <td>0.101983</td>\n",
       "      <td>1.000000</td>\n",
       "      <td>0.845128</td>\n",
       "      <td>0.328490</td>\n",
       "      <td>0.978759</td>\n",
       "      <td>0.954685</td>\n",
       "      <td>-0.257237</td>\n",
       "    </tr>\n",
       "    <tr>\n",
       "      <th>cons.price.idx</th>\n",
       "      <td>0.054803</td>\n",
       "      <td>0.005760</td>\n",
       "      <td>0.087991</td>\n",
       "      <td>0.845128</td>\n",
       "      <td>1.000000</td>\n",
       "      <td>0.191002</td>\n",
       "      <td>0.805968</td>\n",
       "      <td>0.735549</td>\n",
       "      <td>-0.185207</td>\n",
       "    </tr>\n",
       "    <tr>\n",
       "      <th>cons.conf.idx</th>\n",
       "      <td>0.109817</td>\n",
       "      <td>-0.012030</td>\n",
       "      <td>-0.007157</td>\n",
       "      <td>0.328490</td>\n",
       "      <td>0.191002</td>\n",
       "      <td>1.000000</td>\n",
       "      <td>0.397967</td>\n",
       "      <td>0.217534</td>\n",
       "      <td>0.027758</td>\n",
       "    </tr>\n",
       "    <tr>\n",
       "      <th>euribor3m</th>\n",
       "      <td>0.091992</td>\n",
       "      <td>-0.017094</td>\n",
       "      <td>0.082031</td>\n",
       "      <td>0.978759</td>\n",
       "      <td>0.805968</td>\n",
       "      <td>0.397967</td>\n",
       "      <td>1.000000</td>\n",
       "      <td>0.962594</td>\n",
       "      <td>-0.248359</td>\n",
       "    </tr>\n",
       "    <tr>\n",
       "      <th>nr.employed</th>\n",
       "      <td>0.077756</td>\n",
       "      <td>-0.024586</td>\n",
       "      <td>0.095606</td>\n",
       "      <td>0.954685</td>\n",
       "      <td>0.735549</td>\n",
       "      <td>0.217534</td>\n",
       "      <td>0.962594</td>\n",
       "      <td>1.000000</td>\n",
       "      <td>-0.274342</td>\n",
       "    </tr>\n",
       "    <tr>\n",
       "      <th>target</th>\n",
       "      <td>-0.024282</td>\n",
       "      <td>0.423341</td>\n",
       "      <td>-0.046047</td>\n",
       "      <td>-0.257237</td>\n",
       "      <td>-0.185207</td>\n",
       "      <td>0.027758</td>\n",
       "      <td>-0.248359</td>\n",
       "      <td>-0.274342</td>\n",
       "      <td>1.000000</td>\n",
       "    </tr>\n",
       "  </tbody>\n",
       "</table>\n",
       "</div>"
      ],
      "text/plain": [
       "                     age  duration  campaign  emp.var.rate  cons.price.idx  \\\n",
       "age             1.000000 -0.006533  0.006865      0.081805        0.054803   \n",
       "duration       -0.006533  1.000000 -0.037407     -0.014347        0.005760   \n",
       "campaign        0.006865 -0.037407  1.000000      0.101983        0.087991   \n",
       "emp.var.rate    0.081805 -0.014347  0.101983      1.000000        0.845128   \n",
       "cons.price.idx  0.054803  0.005760  0.087991      0.845128        1.000000   \n",
       "cons.conf.idx   0.109817 -0.012030 -0.007157      0.328490        0.191002   \n",
       "euribor3m       0.091992 -0.017094  0.082031      0.978759        0.805968   \n",
       "nr.employed     0.077756 -0.024586  0.095606      0.954685        0.735549   \n",
       "target         -0.024282  0.423341 -0.046047     -0.257237       -0.185207   \n",
       "\n",
       "                cons.conf.idx  euribor3m  nr.employed    target  \n",
       "age                  0.109817   0.091992     0.077756 -0.024282  \n",
       "duration            -0.012030  -0.017094    -0.024586  0.423341  \n",
       "campaign            -0.007157   0.082031     0.095606 -0.046047  \n",
       "emp.var.rate         0.328490   0.978759     0.954685 -0.257237  \n",
       "cons.price.idx       0.191002   0.805968     0.735549 -0.185207  \n",
       "cons.conf.idx        1.000000   0.397967     0.217534  0.027758  \n",
       "euribor3m            0.397967   1.000000     0.962594 -0.248359  \n",
       "nr.employed          0.217534   0.962594     1.000000 -0.274342  \n",
       "target               0.027758  -0.248359    -0.274342  1.000000  "
      ]
     },
     "execution_count": 13,
     "metadata": {},
     "output_type": "execute_result"
    }
   ],
   "source": [
    "df_num= df[['age','duration','campaign','emp.var.rate','cons.price.idx','cons.conf.idx','euribor3m','nr.employed','target']]\n",
    "corr_num = df_num.corr()\n",
    "corr_num"
   ]
  },
  {
   "cell_type": "code",
   "execution_count": 14,
   "metadata": {},
   "outputs": [
    {
     "name": "stderr",
     "output_type": "stream",
     "text": [
      "C:\\Users\\rdrl\\AppData\\Local\\Temp/ipykernel_652/3660247417.py:4: FutureWarning: In a future version of pandas all arguments of DataFrame.drop except for the argument 'labels' will be keyword-only\n",
      "  df.drop('duration',1,inplace=True)\n",
      "C:\\Users\\rdrl\\AppData\\Local\\Temp/ipykernel_652/3660247417.py:5: FutureWarning: In a future version of pandas all arguments of DataFrame.drop except for the argument 'labels' will be keyword-only\n",
      "  df.drop('emp.var.rate',1,inplace=True)\n",
      "C:\\Users\\rdrl\\AppData\\Local\\Temp/ipykernel_652/3660247417.py:6: FutureWarning: In a future version of pandas all arguments of DataFrame.drop except for the argument 'labels' will be keyword-only\n",
      "  df.drop('nr.employed',1,inplace=True)\n"
     ]
    }
   ],
   "source": [
    "# Dropping the features - emp.var.rate and nr.employed to reduce multi-collinearity\n",
    "# Dropping duration column because one can not know call duration before making the call\n",
    "\n",
    "df.drop('duration',1,inplace=True)\n",
    "df.drop('emp.var.rate',1,inplace=True)\n",
    "df.drop('nr.employed',1,inplace=True)"
   ]
  },
  {
   "cell_type": "code",
   "execution_count": 15,
   "metadata": {},
   "outputs": [
    {
     "name": "stderr",
     "output_type": "stream",
     "text": [
      "C:\\Users\\rdrl\\AppData\\Local\\Temp/ipykernel_652/4217337674.py:1: FutureWarning: In a future version of pandas all arguments of DataFrame.drop except for the argument 'labels' will be keyword-only\n",
      "  df_feature= df.drop('target',1)\n"
     ]
    }
   ],
   "source": [
    "df_feature= df.drop('target',1)\n",
    "df_target= df[['target']]"
   ]
  },
  {
   "cell_type": "code",
   "execution_count": 16,
   "metadata": {},
   "outputs": [
    {
     "data": {
      "text/plain": [
       "Index(['age', 'job', 'marital', 'education', 'default', 'housing', 'loan',\n",
       "       'contact', 'month', 'day_of_week', 'campaign', 'poutcome',\n",
       "       'cons.price.idx', 'cons.conf.idx', 'euribor3m', 'pdays_prcd',\n",
       "       'previous_prcd', 'target'],\n",
       "      dtype='object')"
      ]
     },
     "execution_count": 16,
     "metadata": {},
     "output_type": "execute_result"
    }
   ],
   "source": [
    "df.columns"
   ]
  },
  {
   "cell_type": "code",
   "execution_count": 17,
   "metadata": {},
   "outputs": [
    {
     "name": "stdout",
     "output_type": "stream",
     "text": [
      "Counter({0.0: 34314, 1.0: 3552})\n"
     ]
    }
   ],
   "source": [
    "print(Counter(df['target']))"
   ]
  },
  {
   "cell_type": "markdown",
   "metadata": {},
   "source": [
    "# Encoding the Categorical Variables"
   ]
  },
  {
   "cell_type": "code",
   "execution_count": 18,
   "metadata": {},
   "outputs": [],
   "source": [
    "# Label encode categorical variables\n",
    "\n",
    "from sklearn.preprocessing import LabelEncoder\n",
    "\n",
    "class MultiColumnLabelEncoder:\n",
    "    def __init__(self,columns = None):\n",
    "        self.columns = columns # array of column names to encode\n",
    "\n",
    "    def fit(self,X,y=None):\n",
    "        return self \n",
    "\n",
    "    def transform(self,X):\n",
    "        '''\n",
    "        Transforms columns of X specified in self.columns using\n",
    "        LabelEncoder(). If no columns specified, transforms all\n",
    "        columns in X.\n",
    "        '''\n",
    "        output = X.copy()\n",
    "        if self.columns is not None:\n",
    "            for col in self.columns:\n",
    "                output[col] = LabelEncoder().fit_transform(output[col])\n",
    "        else:\n",
    "            for colname,col in output.iteritems():\n",
    "                output[colname] = LabelEncoder().fit_transform(col)\n",
    "        return output\n",
    "\n",
    "    def fit_transform(self,X,y=None):\n",
    "        return self.fit(X,y).transform(X)"
   ]
  },
  {
   "cell_type": "code",
   "execution_count": 19,
   "metadata": {},
   "outputs": [],
   "source": [
    "encoded_df = MultiColumnLabelEncoder(columns = [ 'job', 'marital', 'education', 'default', 'housing', 'loan', 'contact', 'month', 'day_of_week',\n",
    "                                               'poutcome', 'pdays_prcd', 'previous_prcd']).fit_transform(df)"
   ]
  },
  {
   "cell_type": "code",
   "execution_count": 20,
   "metadata": {},
   "outputs": [],
   "source": [
    "# Saving the encoded data\n",
    "\n",
    "encoded_df.to_csv('Encoded_Bank.csv')"
   ]
  },
  {
   "cell_type": "code",
   "execution_count": 21,
   "metadata": {},
   "outputs": [
    {
     "name": "stderr",
     "output_type": "stream",
     "text": [
      "C:\\Users\\rdrl\\AppData\\Local\\Temp/ipykernel_652/442209963.py:1: FutureWarning: In a future version of pandas all arguments of DataFrame.drop except for the argument 'labels' will be keyword-only\n",
      "  encoded_df= encoded_df.drop('target',1)\n"
     ]
    }
   ],
   "source": [
    "encoded_df= encoded_df.drop('target',1)"
   ]
  },
  {
   "cell_type": "code",
   "execution_count": 22,
   "metadata": {},
   "outputs": [],
   "source": [
    "# Split the raw data into train and test set. Split ratio = 70:30\n",
    "from sklearn.model_selection import train_test_split\n",
    "\n",
    "X_train, X_test, y_train, y_test = train_test_split(encoded_df, df_target, test_size=0.30, random_state=12)\n"
   ]
  },
  {
   "cell_type": "code",
   "execution_count": 23,
   "metadata": {},
   "outputs": [],
   "source": [
    "col_list = list(X_train.columns)\n",
    "X_train.index = pd.RangeIndex(len(X_train.index))\n",
    "y_train.index = pd.RangeIndex(len(y_train.index))\n",
    "X_test.index = pd.RangeIndex(len(X_test.index))\n",
    "y_test.index = pd.RangeIndex(len(y_test.index))"
   ]
  },
  {
   "cell_type": "code",
   "execution_count": 24,
   "metadata": {},
   "outputs": [],
   "source": [
    "## Apply standard scaler on the features , so that euclidean distance calculation in SMOTE is not biased\n",
    "from sklearn.preprocessing import StandardScaler\n",
    "\n",
    "sc = StandardScaler()\n",
    "\n",
    "X_train = sc.fit_transform(X_train)\n",
    "X_test = sc.transform(X_test)"
   ]
  },
  {
   "cell_type": "code",
   "execution_count": 25,
   "metadata": {},
   "outputs": [],
   "source": [
    "X_train = pd.DataFrame(X_train, index=range(X_train.shape[0]),\n",
    "                          columns=col_list)\n",
    "X_test = pd.DataFrame(X_test, index=range(X_test.shape[0]),\n",
    "                          columns=col_list)"
   ]
  },
  {
   "cell_type": "markdown",
   "metadata": {},
   "source": [
    "# Data Balancing using Smote EN"
   ]
  },
  {
   "cell_type": "code",
   "execution_count": 26,
   "metadata": {},
   "outputs": [],
   "source": [
    "from imblearn.over_sampling import SMOTENC\n",
    "\n",
    "sm_en = SMOTENC(random_state=42, categorical_features=[1,2,3,4,5,6,7,8,9,11,15,16])\n",
    "X_res_en, y_res_en = sm_en.fit_resample(X_train, y_train)"
   ]
  },
  {
   "cell_type": "code",
   "execution_count": 27,
   "metadata": {},
   "outputs": [
    {
     "name": "stdout",
     "output_type": "stream",
     "text": [
      "Counter({0.0: 23071, 1.0: 14795})\n"
     ]
    }
   ],
   "source": [
    "#Checking the Distribution after applying Smote \n",
    "\n",
    "df['New_en'] = y_res_en\n",
    "print(Counter(df['New_en']))"
   ]
  },
  {
   "cell_type": "markdown",
   "metadata": {},
   "source": [
    "# Machine Learning Model "
   ]
  },
  {
   "cell_type": "markdown",
   "metadata": {},
   "source": [
    "##  Random Forest with Smote NC Approach"
   ]
  },
  {
   "cell_type": "code",
   "execution_count": 29,
   "metadata": {},
   "outputs": [
    {
     "name": "stderr",
     "output_type": "stream",
     "text": [
      "C:\\Users\\rdrl\\AppData\\Local\\Temp/ipykernel_652/129712566.py:4: DataConversionWarning: A column-vector y was passed when a 1d array was expected. Please change the shape of y to (n_samples,), for example using ravel().\n",
      "  y_pred = RF_sm_en.fit(X_res_en, y_res_en).predict(X_test)\n"
     ]
    }
   ],
   "source": [
    "from sklearn.ensemble import RandomForestClassifier\n",
    "\n",
    "RF_sm_en = RandomForestClassifier()\n",
    "y_pred = RF_sm_en.fit(X_res_en, y_res_en).predict(X_test)"
   ]
  },
  {
   "cell_type": "code",
   "execution_count": 30,
   "metadata": {},
   "outputs": [
    {
     "data": {
      "image/png": "[encoded data removed]",
      "text/plain": [
       "<Figure size 432x288 with 2 Axes>"
      ]
     },
     "metadata": {
      "needs_background": "light"
     },
     "output_type": "display_data"
    }
   ],
   "source": [
    "from sklearn.metrics import confusion_matrix\n",
    "\n",
    "cm = confusion_matrix(y_test, y_pred)\n",
    "sns.heatmap(cm, annot=True, fmt='d')\n",
    "plt.title('Confusion Matrix')\n",
    "plt.show()"
   ]
  },
  {
   "cell_type": "code",
   "execution_count": 31,
   "metadata": {},
   "outputs": [
    {
     "name": "stdout",
     "output_type": "stream",
     "text": [
      "Accuracy = 0.8860915492957746\n",
      "Precision = 0.36666666666666664\n",
      "Recall = 0.3260038240917782\n",
      "F1 Score = 0.34514170040485825\n"
     ]
    }
   ],
   "source": [
    "tn = cm[0,0]  #True Negative\n",
    "tp = cm[1,1]  #True Positives\n",
    "fp = cm[0,1]  #False Positives\n",
    "fn = cm[1,0]  #False Negatives\n",
    "\n",
    "accuracy = (tp+tn)/(tp+fn+fp+tn)\n",
    "precision = tp / (tp+fp)\n",
    "recall = tp / (tp+fn)\n",
    "f1 = 2*precision*recall / (precision+recall)\n",
    "\n",
    "print('Accuracy =',accuracy)\n",
    "print('Precision =', precision)\n",
    "print('Recall =', recall)\n",
    "print('F1 Score =', f1)"
   ]
  },
  {
   "cell_type": "code",
   "execution_count": 32,
   "metadata": {},
   "outputs": [
    {
     "name": "stdout",
     "output_type": "stream",
     "text": [
      "ROC AUC = 0.7271521268498036\n"
     ]
    },
    {
     "data": {
      "image/png": "[encoded data removed]",
      "text/plain": [
       "<Figure size 432x288 with 1 Axes>"
      ]
     },
     "metadata": {
      "needs_background": "light"
     },
     "output_type": "display_data"
    }
   ],
   "source": [
    "from sklearn.metrics import roc_curve,roc_auc_score\n",
    "ypred = RF_sm_en.predict_proba(X_test)\n",
    "fpr,tpr,threshold = roc_curve(y_test,ypred[:,1])\n",
    "roc_auc = roc_auc_score(y_test,ypred[:,1])\n",
    "\n",
    "print('ROC AUC =', roc_auc)\n",
    "plt.figure()\n",
    "lw = 2\n",
    "plt.plot(fpr,tpr,color='darkorange',lw=lw,label='ROC Curve (area = %0.2f)'%roc_auc)\n",
    "plt.plot([0,1],[0,1],color='navy',lw=lw,linestyle='--')\n",
    "plt.xlim([0.0, 1.0])\n",
    "plt.ylim([0.0, 1.05])\n",
    "plt.xlabel('FPR')\n",
    "plt.ylabel('TPR')\n",
    "plt.title('ROC Curve')\n",
    "plt.legend(loc='lower right')\n",
    "plt.show()"
   ]
  },
  {
   "cell_type": "code",
   "execution_count": null,
   "metadata": {},
   "outputs": [],
   "source": []
  }
 ],
 "metadata": {
  "kernelspec": {
   "display_name": "Python 3",
   "language": "python",
   "name": "python3"
  },
  "language_info": {
   "codemirror_mode": {
    "name": "ipython",
    "version": 3
   },
   "file_extension": ".py",
   "mimetype": "text/x-python",
   "name": "python",
   "nbconvert_exporter": "python",
   "pygments_lexer": "ipython3",
   "version": "3.8.5"
  },
  "varInspector": {
   "cols": {
    "lenName": 16,
    "lenType": 16,
    "lenVar": 40
   },
   "kernels_config": {
    "python": {
     "delete_cmd_postfix": "",
     "delete_cmd_prefix": "del ",
     "library": "var_list.py",
     "varRefreshCmd": "print(var_dic_list())"
    },
    "r": {
     "delete_cmd_postfix": ") ",
     "delete_cmd_prefix": "rm(",
     "library": "var_list.r",
     "varRefreshCmd": "cat(var_dic_list()) "
    }
   },
   "types_to_exclude": [
    "module",
    "function",
    "builtin_function_or_method",
    "instance",
    "_Feature"
   ],
   "window_display": false
  }
 },
 "nbformat": 4,
 "nbformat_minor": 5
}
